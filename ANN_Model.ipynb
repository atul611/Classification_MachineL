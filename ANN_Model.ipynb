{
  "nbformat": 4,
  "nbformat_minor": 0,
  "metadata": {
    "colab": {
      "name": "ANN_Model.ipynb",
      "provenance": [],
      "collapsed_sections": []
    },
    "kernelspec": {
      "name": "python3",
      "display_name": "Python 3"
    },
    "language_info": {
      "name": "python"
    }
  },
  "cells": [
    {
      "cell_type": "code",
      "execution_count": 1,
      "metadata": {
        "colab": {
          "base_uri": "https://localhost:8080/"
        },
        "id": "KMQO-lpC6lgI",
        "outputId": "ebac615c-7a63-48b1-bda6-66135f485c08"
      },
      "outputs": [
        {
          "output_type": "stream",
          "name": "stdout",
          "text": [
            "Collecting tensorflow-gpu\n",
            "  Downloading tensorflow_gpu-2.8.0-cp37-cp37m-manylinux2010_x86_64.whl (497.5 MB)\n",
            "\u001b[K     |████████████████████████████████| 497.5 MB 24 kB/s \n",
            "\u001b[?25hRequirement already satisfied: typing-extensions>=3.6.6 in /usr/local/lib/python3.7/dist-packages (from tensorflow-gpu) (4.2.0)\n",
            "Requirement already satisfied: wrapt>=1.11.0 in /usr/local/lib/python3.7/dist-packages (from tensorflow-gpu) (1.14.0)\n",
            "Requirement already satisfied: numpy>=1.20 in /usr/local/lib/python3.7/dist-packages (from tensorflow-gpu) (1.21.6)\n",
            "Requirement already satisfied: opt-einsum>=2.3.2 in /usr/local/lib/python3.7/dist-packages (from tensorflow-gpu) (3.3.0)\n",
            "Requirement already satisfied: protobuf>=3.9.2 in /usr/local/lib/python3.7/dist-packages (from tensorflow-gpu) (3.17.3)\n",
            "Requirement already satisfied: setuptools in /usr/local/lib/python3.7/dist-packages (from tensorflow-gpu) (57.4.0)\n",
            "Requirement already satisfied: tensorboard<2.9,>=2.8 in /usr/local/lib/python3.7/dist-packages (from tensorflow-gpu) (2.8.0)\n",
            "Requirement already satisfied: keras<2.9,>=2.8.0rc0 in /usr/local/lib/python3.7/dist-packages (from tensorflow-gpu) (2.8.0)\n",
            "Requirement already satisfied: google-pasta>=0.1.1 in /usr/local/lib/python3.7/dist-packages (from tensorflow-gpu) (0.2.0)\n",
            "Requirement already satisfied: astunparse>=1.6.0 in /usr/local/lib/python3.7/dist-packages (from tensorflow-gpu) (1.6.3)\n",
            "Requirement already satisfied: six>=1.12.0 in /usr/local/lib/python3.7/dist-packages (from tensorflow-gpu) (1.15.0)\n",
            "Requirement already satisfied: tensorflow-io-gcs-filesystem>=0.23.1 in /usr/local/lib/python3.7/dist-packages (from tensorflow-gpu) (0.25.0)\n",
            "Requirement already satisfied: h5py>=2.9.0 in /usr/local/lib/python3.7/dist-packages (from tensorflow-gpu) (3.1.0)\n",
            "Requirement already satisfied: absl-py>=0.4.0 in /usr/local/lib/python3.7/dist-packages (from tensorflow-gpu) (1.0.0)\n",
            "Requirement already satisfied: libclang>=9.0.1 in /usr/local/lib/python3.7/dist-packages (from tensorflow-gpu) (14.0.1)\n",
            "Requirement already satisfied: flatbuffers>=1.12 in /usr/local/lib/python3.7/dist-packages (from tensorflow-gpu) (2.0)\n",
            "Collecting tf-estimator-nightly==2.8.0.dev2021122109\n",
            "  Downloading tf_estimator_nightly-2.8.0.dev2021122109-py2.py3-none-any.whl (462 kB)\n",
            "\u001b[K     |████████████████████████████████| 462 kB 61.3 MB/s \n",
            "\u001b[?25hRequirement already satisfied: keras-preprocessing>=1.1.1 in /usr/local/lib/python3.7/dist-packages (from tensorflow-gpu) (1.1.2)\n",
            "Requirement already satisfied: gast>=0.2.1 in /usr/local/lib/python3.7/dist-packages (from tensorflow-gpu) (0.5.3)\n",
            "Requirement already satisfied: termcolor>=1.1.0 in /usr/local/lib/python3.7/dist-packages (from tensorflow-gpu) (1.1.0)\n",
            "Requirement already satisfied: grpcio<2.0,>=1.24.3 in /usr/local/lib/python3.7/dist-packages (from tensorflow-gpu) (1.44.0)\n",
            "Requirement already satisfied: wheel<1.0,>=0.23.0 in /usr/local/lib/python3.7/dist-packages (from astunparse>=1.6.0->tensorflow-gpu) (0.37.1)\n",
            "Requirement already satisfied: cached-property in /usr/local/lib/python3.7/dist-packages (from h5py>=2.9.0->tensorflow-gpu) (1.5.2)\n",
            "Requirement already satisfied: werkzeug>=0.11.15 in /usr/local/lib/python3.7/dist-packages (from tensorboard<2.9,>=2.8->tensorflow-gpu) (1.0.1)\n",
            "Requirement already satisfied: tensorboard-data-server<0.7.0,>=0.6.0 in /usr/local/lib/python3.7/dist-packages (from tensorboard<2.9,>=2.8->tensorflow-gpu) (0.6.1)\n",
            "Requirement already satisfied: markdown>=2.6.8 in /usr/local/lib/python3.7/dist-packages (from tensorboard<2.9,>=2.8->tensorflow-gpu) (3.3.6)\n",
            "Requirement already satisfied: requests<3,>=2.21.0 in /usr/local/lib/python3.7/dist-packages (from tensorboard<2.9,>=2.8->tensorflow-gpu) (2.23.0)\n",
            "Requirement already satisfied: google-auth<3,>=1.6.3 in /usr/local/lib/python3.7/dist-packages (from tensorboard<2.9,>=2.8->tensorflow-gpu) (1.35.0)\n",
            "Requirement already satisfied: tensorboard-plugin-wit>=1.6.0 in /usr/local/lib/python3.7/dist-packages (from tensorboard<2.9,>=2.8->tensorflow-gpu) (1.8.1)\n",
            "Requirement already satisfied: google-auth-oauthlib<0.5,>=0.4.1 in /usr/local/lib/python3.7/dist-packages (from tensorboard<2.9,>=2.8->tensorflow-gpu) (0.4.6)\n",
            "Requirement already satisfied: cachetools<5.0,>=2.0.0 in /usr/local/lib/python3.7/dist-packages (from google-auth<3,>=1.6.3->tensorboard<2.9,>=2.8->tensorflow-gpu) (4.2.4)\n",
            "Requirement already satisfied: pyasn1-modules>=0.2.1 in /usr/local/lib/python3.7/dist-packages (from google-auth<3,>=1.6.3->tensorboard<2.9,>=2.8->tensorflow-gpu) (0.2.8)\n",
            "Requirement already satisfied: rsa<5,>=3.1.4 in /usr/local/lib/python3.7/dist-packages (from google-auth<3,>=1.6.3->tensorboard<2.9,>=2.8->tensorflow-gpu) (4.8)\n",
            "Requirement already satisfied: requests-oauthlib>=0.7.0 in /usr/local/lib/python3.7/dist-packages (from google-auth-oauthlib<0.5,>=0.4.1->tensorboard<2.9,>=2.8->tensorflow-gpu) (1.3.1)\n",
            "Requirement already satisfied: importlib-metadata>=4.4 in /usr/local/lib/python3.7/dist-packages (from markdown>=2.6.8->tensorboard<2.9,>=2.8->tensorflow-gpu) (4.11.3)\n",
            "Requirement already satisfied: zipp>=0.5 in /usr/local/lib/python3.7/dist-packages (from importlib-metadata>=4.4->markdown>=2.6.8->tensorboard<2.9,>=2.8->tensorflow-gpu) (3.8.0)\n",
            "Requirement already satisfied: pyasn1<0.5.0,>=0.4.6 in /usr/local/lib/python3.7/dist-packages (from pyasn1-modules>=0.2.1->google-auth<3,>=1.6.3->tensorboard<2.9,>=2.8->tensorflow-gpu) (0.4.8)\n",
            "Requirement already satisfied: urllib3!=1.25.0,!=1.25.1,<1.26,>=1.21.1 in /usr/local/lib/python3.7/dist-packages (from requests<3,>=2.21.0->tensorboard<2.9,>=2.8->tensorflow-gpu) (1.24.3)\n",
            "Requirement already satisfied: certifi>=2017.4.17 in /usr/local/lib/python3.7/dist-packages (from requests<3,>=2.21.0->tensorboard<2.9,>=2.8->tensorflow-gpu) (2021.10.8)\n",
            "Requirement already satisfied: chardet<4,>=3.0.2 in /usr/local/lib/python3.7/dist-packages (from requests<3,>=2.21.0->tensorboard<2.9,>=2.8->tensorflow-gpu) (3.0.4)\n",
            "Requirement already satisfied: idna<3,>=2.5 in /usr/local/lib/python3.7/dist-packages (from requests<3,>=2.21.0->tensorboard<2.9,>=2.8->tensorflow-gpu) (2.10)\n",
            "Requirement already satisfied: oauthlib>=3.0.0 in /usr/local/lib/python3.7/dist-packages (from requests-oauthlib>=0.7.0->google-auth-oauthlib<0.5,>=0.4.1->tensorboard<2.9,>=2.8->tensorflow-gpu) (3.2.0)\n",
            "Installing collected packages: tf-estimator-nightly, tensorflow-gpu\n",
            "Successfully installed tensorflow-gpu-2.8.0 tf-estimator-nightly-2.8.0.dev2021122109\n"
          ]
        }
      ],
      "source": [
        "!pip install tensorflow-gpu"
      ]
    },
    {
      "cell_type": "code",
      "source": [
        "import tensorflow as tf"
      ],
      "metadata": {
        "id": "D2IliGyI62B0"
      },
      "execution_count": 2,
      "outputs": []
    },
    {
      "cell_type": "code",
      "source": [
        "print(tf.__version__)"
      ],
      "metadata": {
        "colab": {
          "base_uri": "https://localhost:8080/"
        },
        "id": "4_fyxUHb7GuH",
        "outputId": "d4e53a84-aab3-4278-ca83-4c43ab57d4b1"
      },
      "execution_count": 3,
      "outputs": [
        {
          "output_type": "stream",
          "name": "stdout",
          "text": [
            "2.8.0\n"
          ]
        }
      ]
    },
    {
      "cell_type": "code",
      "source": [
        "# Importing the libraries\n",
        "import numpy as np\n",
        "import matplotlib.pyplot as plt\n",
        "import pandas as pd"
      ],
      "metadata": {
        "id": "LLvV2K-o7KAp"
      },
      "execution_count": 4,
      "outputs": []
    },
    {
      "cell_type": "code",
      "source": [
        "# Importing the dataset\n",
        "dataset = pd.read_csv('Churn_Modelling.csv')\n",
        "X = dataset.iloc[:, 3:13]\n",
        "y = dataset.iloc[:, 13]"
      ],
      "metadata": {
        "id": "gHRHobkK7Sxn"
      },
      "execution_count": 5,
      "outputs": []
    },
    {
      "cell_type": "code",
      "source": [
        "#Create dummy variables\n",
        "geography=pd.get_dummies(X[\"Geography\"],drop_first=True)\n",
        "gender=pd.get_dummies(X['Gender'],drop_first=True)"
      ],
      "metadata": {
        "id": "T2yS0VL67Ufn"
      },
      "execution_count": 6,
      "outputs": []
    },
    {
      "cell_type": "code",
      "source": [
        "## Concatenate the Data Frames\n",
        "\n",
        "X=pd.concat([X,geography,gender],axis=1)\n",
        "\n",
        "## Drop Unnecessary columns\n",
        "X=X.drop(['Geography','Gender'],axis=1)\n",
        "\n",
        "# Splitting the dataset into the Training set and Test set\n",
        "from sklearn.model_selection import train_test_split\n",
        "X_train, X_test, y_train, y_test = train_test_split(X, y, test_size = 0.2, random_state = 0)\n"
      ],
      "metadata": {
        "id": "Co2rxaFR7Wgo"
      },
      "execution_count": 7,
      "outputs": []
    },
    {
      "cell_type": "code",
      "source": [
        "# Feature Scaling\n",
        "from sklearn.preprocessing import StandardScaler\n",
        "sc = StandardScaler()\n",
        "X_train = sc.fit_transform(X_train)\n",
        "X_test = sc.transform(X_test)\n"
      ],
      "metadata": {
        "id": "GNZrZXy37ZLs"
      },
      "execution_count": 8,
      "outputs": []
    },
    {
      "cell_type": "code",
      "source": [
        "# Part 2 - Now let's make the ANN!"
      ],
      "metadata": {
        "id": "uwN3bgie7bvT"
      },
      "execution_count": 10,
      "outputs": []
    },
    {
      "cell_type": "code",
      "source": [
        "from tensorflow.keras.models import Sequential\n",
        "from tensorflow.keras.layers import Dense\n",
        "from tensorflow.keras.layers import LeakyReLU,PReLU,ELU\n",
        "from tensorflow.keras.layers import Dropout\n"
      ],
      "metadata": {
        "id": "rL_a7vWu7dj1"
      },
      "execution_count": 11,
      "outputs": []
    },
    {
      "cell_type": "code",
      "source": [
        "# Initialising the ANN\n",
        "classifier = Sequential()"
      ],
      "metadata": {
        "id": "VDJwvrbZ7kj4"
      },
      "execution_count": 12,
      "outputs": []
    },
    {
      "cell_type": "code",
      "source": [
        "# Adding the input layer and the first hidden layer\n",
        "classifier.add(Dense(units=11,activation='relu'))"
      ],
      "metadata": {
        "id": "RSZQrU-g7z4N"
      },
      "execution_count": 13,
      "outputs": []
    },
    {
      "cell_type": "code",
      "source": [
        "# Adding the input layer and the first hidden layer\n",
        "classifier.add(Dense(units=6,activation='relu'))"
      ],
      "metadata": {
        "id": "byszZMvw8RcQ"
      },
      "execution_count": 14,
      "outputs": []
    },
    {
      "cell_type": "code",
      "source": [
        "# Adding the input layer and the first hidden layer\n",
        "classifier.add(Dense(units=1,activation='relu'))"
      ],
      "metadata": {
        "id": "Mk2slmAX8XUI"
      },
      "execution_count": 15,
      "outputs": []
    },
    {
      "cell_type": "code",
      "source": [
        "classifier.compile(optimizer='adam',loss='binary_crossentropy',metrics=['accuracy'])"
      ],
      "metadata": {
        "id": "F2udThHo8cFt"
      },
      "execution_count": 16,
      "outputs": []
    },
    {
      "cell_type": "code",
      "source": [
        "model_history=classifier.fit(X_train,y_train,validation_split=0.33,batch_size=10,epochs=50)"
      ],
      "metadata": {
        "colab": {
          "base_uri": "https://localhost:8080/"
        },
        "id": "3qairJAs8fIc",
        "outputId": "fda4c3e5-bca1-4874-d3db-f19d2b565e02"
      },
      "execution_count": 17,
      "outputs": [
        {
          "output_type": "stream",
          "name": "stdout",
          "text": [
            "Epoch 1/50\n",
            "536/536 [==============================] - 5s 7ms/step - loss: 1.3747 - accuracy: 0.7445 - val_loss: 0.9591 - val_accuracy: 0.7512\n",
            "Epoch 2/50\n",
            "536/536 [==============================] - 4s 7ms/step - loss: 0.7851 - accuracy: 0.7643 - val_loss: 0.5946 - val_accuracy: 0.7796\n",
            "Epoch 3/50\n",
            "536/536 [==============================] - 4s 8ms/step - loss: 0.5985 - accuracy: 0.7994 - val_loss: 0.5150 - val_accuracy: 0.8012\n",
            "Epoch 4/50\n",
            "536/536 [==============================] - 3s 5ms/step - loss: 0.5097 - accuracy: 0.7968 - val_loss: 0.4713 - val_accuracy: 0.8073\n",
            "Epoch 5/50\n",
            "536/536 [==============================] - 3s 6ms/step - loss: 0.4734 - accuracy: 0.8197 - val_loss: 0.4565 - val_accuracy: 0.8175\n",
            "Epoch 6/50\n",
            "536/536 [==============================] - 3s 5ms/step - loss: 0.4489 - accuracy: 0.8250 - val_loss: 0.4788 - val_accuracy: 0.8228\n",
            "Epoch 7/50\n",
            "536/536 [==============================] - 3s 6ms/step - loss: 0.4332 - accuracy: 0.8322 - val_loss: 0.4480 - val_accuracy: 0.8254\n",
            "Epoch 8/50\n",
            "536/536 [==============================] - 3s 5ms/step - loss: 0.4296 - accuracy: 0.8341 - val_loss: 0.4381 - val_accuracy: 0.8326\n",
            "Epoch 9/50\n",
            "536/536 [==============================] - 3s 5ms/step - loss: 0.4026 - accuracy: 0.8360 - val_loss: 0.4378 - val_accuracy: 0.8349\n",
            "Epoch 10/50\n",
            "536/536 [==============================] - 3s 5ms/step - loss: 0.4003 - accuracy: 0.8418 - val_loss: 0.4489 - val_accuracy: 0.8334\n",
            "Epoch 11/50\n",
            "536/536 [==============================] - 2s 3ms/step - loss: 0.3879 - accuracy: 0.8447 - val_loss: 0.4293 - val_accuracy: 0.8239\n",
            "Epoch 12/50\n",
            "536/536 [==============================] - 1s 2ms/step - loss: 0.4137 - accuracy: 0.8252 - val_loss: 0.4415 - val_accuracy: 0.8270\n",
            "Epoch 13/50\n",
            "536/536 [==============================] - 1s 2ms/step - loss: 0.3994 - accuracy: 0.8434 - val_loss: 0.4364 - val_accuracy: 0.8357\n",
            "Epoch 14/50\n",
            "536/536 [==============================] - 1s 2ms/step - loss: 0.3888 - accuracy: 0.8462 - val_loss: 0.4152 - val_accuracy: 0.8387\n",
            "Epoch 15/50\n",
            "536/536 [==============================] - 1s 2ms/step - loss: 0.3788 - accuracy: 0.8464 - val_loss: 0.4308 - val_accuracy: 0.8429\n",
            "Epoch 16/50\n",
            "536/536 [==============================] - 1s 2ms/step - loss: 0.3777 - accuracy: 0.8502 - val_loss: 0.4137 - val_accuracy: 0.8455\n",
            "Epoch 17/50\n",
            "536/536 [==============================] - 1s 2ms/step - loss: 0.3749 - accuracy: 0.8522 - val_loss: 0.4118 - val_accuracy: 0.8436\n",
            "Epoch 18/50\n",
            "536/536 [==============================] - 1s 2ms/step - loss: 0.3709 - accuracy: 0.8515 - val_loss: 0.4284 - val_accuracy: 0.8429\n",
            "Epoch 19/50\n",
            "536/536 [==============================] - 1s 2ms/step - loss: 0.3648 - accuracy: 0.8533 - val_loss: 0.4354 - val_accuracy: 0.8455\n",
            "Epoch 20/50\n",
            "536/536 [==============================] - 1s 2ms/step - loss: 0.3683 - accuracy: 0.8539 - val_loss: 0.4100 - val_accuracy: 0.8493\n",
            "Epoch 21/50\n",
            "536/536 [==============================] - 1s 2ms/step - loss: 0.3764 - accuracy: 0.8520 - val_loss: 0.4479 - val_accuracy: 0.8451\n",
            "Epoch 22/50\n",
            "536/536 [==============================] - 1s 2ms/step - loss: 0.3673 - accuracy: 0.8563 - val_loss: 0.4463 - val_accuracy: 0.8451\n",
            "Epoch 23/50\n",
            "536/536 [==============================] - 1s 2ms/step - loss: 0.3620 - accuracy: 0.8565 - val_loss: 0.4437 - val_accuracy: 0.8519\n",
            "Epoch 24/50\n",
            "536/536 [==============================] - 1s 2ms/step - loss: 0.3610 - accuracy: 0.8552 - val_loss: 0.4426 - val_accuracy: 0.8550\n",
            "Epoch 25/50\n",
            "536/536 [==============================] - 1s 2ms/step - loss: 0.3561 - accuracy: 0.8576 - val_loss: 0.4393 - val_accuracy: 0.8554\n",
            "Epoch 26/50\n",
            "536/536 [==============================] - 1s 2ms/step - loss: 0.3590 - accuracy: 0.8584 - val_loss: 0.4302 - val_accuracy: 0.8535\n",
            "Epoch 27/50\n",
            "536/536 [==============================] - 1s 2ms/step - loss: 0.3554 - accuracy: 0.8572 - val_loss: 0.4218 - val_accuracy: 0.8523\n",
            "Epoch 28/50\n",
            "536/536 [==============================] - 1s 2ms/step - loss: 0.3572 - accuracy: 0.8572 - val_loss: 0.4379 - val_accuracy: 0.8569\n",
            "Epoch 29/50\n",
            "536/536 [==============================] - 1s 2ms/step - loss: 0.3526 - accuracy: 0.8580 - val_loss: 0.4099 - val_accuracy: 0.8512\n",
            "Epoch 30/50\n",
            "536/536 [==============================] - 1s 2ms/step - loss: 0.3597 - accuracy: 0.8580 - val_loss: 0.4255 - val_accuracy: 0.8535\n",
            "Epoch 31/50\n",
            "536/536 [==============================] - 1s 2ms/step - loss: 0.3508 - accuracy: 0.8591 - val_loss: 0.4205 - val_accuracy: 0.8542\n",
            "Epoch 32/50\n",
            "536/536 [==============================] - 1s 2ms/step - loss: 0.3530 - accuracy: 0.8578 - val_loss: 0.4418 - val_accuracy: 0.8573\n",
            "Epoch 33/50\n",
            "536/536 [==============================] - 1s 2ms/step - loss: 0.3548 - accuracy: 0.8580 - val_loss: 0.4427 - val_accuracy: 0.8565\n",
            "Epoch 34/50\n",
            "536/536 [==============================] - 1s 2ms/step - loss: 0.3624 - accuracy: 0.8595 - val_loss: 0.4475 - val_accuracy: 0.8554\n",
            "Epoch 35/50\n",
            "536/536 [==============================] - 1s 2ms/step - loss: 0.3532 - accuracy: 0.8554 - val_loss: 0.4574 - val_accuracy: 0.8531\n",
            "Epoch 36/50\n",
            "536/536 [==============================] - 1s 2ms/step - loss: 0.3464 - accuracy: 0.8595 - val_loss: 0.4404 - val_accuracy: 0.8561\n",
            "Epoch 37/50\n",
            "536/536 [==============================] - 2s 3ms/step - loss: 0.3556 - accuracy: 0.8591 - val_loss: 0.4303 - val_accuracy: 0.8501\n",
            "Epoch 38/50\n",
            "536/536 [==============================] - 1s 2ms/step - loss: 0.3476 - accuracy: 0.8595 - val_loss: 0.4610 - val_accuracy: 0.8512\n",
            "Epoch 39/50\n",
            "536/536 [==============================] - 1s 2ms/step - loss: 0.3495 - accuracy: 0.8569 - val_loss: 0.4191 - val_accuracy: 0.8538\n",
            "Epoch 40/50\n",
            "536/536 [==============================] - 1s 2ms/step - loss: 0.3370 - accuracy: 0.8600 - val_loss: 0.4297 - val_accuracy: 0.8580\n",
            "Epoch 41/50\n",
            "536/536 [==============================] - 1s 2ms/step - loss: 0.3370 - accuracy: 0.8604 - val_loss: 0.4314 - val_accuracy: 0.8504\n",
            "Epoch 42/50\n",
            "536/536 [==============================] - 1s 2ms/step - loss: 0.3378 - accuracy: 0.8610 - val_loss: 0.4230 - val_accuracy: 0.8565\n",
            "Epoch 43/50\n",
            "536/536 [==============================] - 1s 2ms/step - loss: 0.3394 - accuracy: 0.8597 - val_loss: 0.4387 - val_accuracy: 0.8554\n",
            "Epoch 44/50\n",
            "536/536 [==============================] - 1s 2ms/step - loss: 0.3374 - accuracy: 0.8612 - val_loss: 0.4211 - val_accuracy: 0.8580\n",
            "Epoch 45/50\n",
            "536/536 [==============================] - 1s 2ms/step - loss: 0.3432 - accuracy: 0.8569 - val_loss: 0.4109 - val_accuracy: 0.8565\n",
            "Epoch 46/50\n",
            "536/536 [==============================] - 1s 2ms/step - loss: 0.3501 - accuracy: 0.8608 - val_loss: 0.4265 - val_accuracy: 0.8569\n",
            "Epoch 47/50\n",
            "536/536 [==============================] - 1s 2ms/step - loss: 0.3476 - accuracy: 0.8597 - val_loss: 0.4261 - val_accuracy: 0.8580\n",
            "Epoch 48/50\n",
            "536/536 [==============================] - 1s 2ms/step - loss: 0.3442 - accuracy: 0.8612 - val_loss: 0.4272 - val_accuracy: 0.8565\n",
            "Epoch 49/50\n",
            "536/536 [==============================] - 1s 2ms/step - loss: 0.3363 - accuracy: 0.8615 - val_loss: 0.4426 - val_accuracy: 0.8573\n",
            "Epoch 50/50\n",
            "536/536 [==============================] - 1s 2ms/step - loss: 0.3387 - accuracy: 0.8612 - val_loss: 0.4324 - val_accuracy: 0.8580\n"
          ]
        }
      ]
    },
    {
      "cell_type": "code",
      "source": [
        "# list all data in history\n",
        "\n",
        "print(model_history.history.keys())"
      ],
      "metadata": {
        "colab": {
          "base_uri": "https://localhost:8080/"
        },
        "id": "Q9t_M4wICTTz",
        "outputId": "3f42f4a8-3139-4a82-db02-b59ee7e5041a"
      },
      "execution_count": 18,
      "outputs": [
        {
          "output_type": "stream",
          "name": "stdout",
          "text": [
            "dict_keys(['loss', 'accuracy', 'val_loss', 'val_accuracy'])\n"
          ]
        }
      ]
    },
    {
      "cell_type": "code",
      "source": [
        "\n",
        "# summarize history for accuracy\n",
        "plt.plot(model_history.history['accuracy'])\n",
        "plt.plot(model_history.history['val_accuracy'])\n",
        "plt.title('model accuracy')\n",
        "plt.ylabel('accuracy')\n",
        "plt.xlabel('epoch')\n",
        "plt.legend(['train', 'test'], loc='upper left')\n",
        "plt.show()"
      ],
      "metadata": {
        "colab": {
          "base_uri": "https://localhost:8080/",
          "height": 295
        },
        "id": "MMOyiwzgBlLY",
        "outputId": "f23142e1-39df-4662-8c8f-eefc90ebd2fd"
      },
      "execution_count": 19,
      "outputs": [
        {
          "output_type": "display_data",
          "data": {
            "text/plain": [
              "<Figure size 432x288 with 1 Axes>"
            ],
            "image/png": "[encoded data removed]"
          },
          "metadata": {
            "needs_background": "light"
          }
        }
      ]
    },
    {
      "cell_type": "code",
      "source": [
        "# summarize history for loss\n",
        "plt.plot(model_history.history['loss'])\n",
        "plt.plot(model_history.history['val_loss'])\n",
        "plt.title('model loss')\n",
        "plt.ylabel('loss')\n",
        "plt.xlabel('epoch')\n",
        "plt.legend(['train', 'test'], loc='upper left')\n",
        "plt.show()"
      ],
      "metadata": {
        "colab": {
          "base_uri": "https://localhost:8080/",
          "height": 295
        },
        "id": "QH141RsQCEr0",
        "outputId": "0d51fb6e-0234-4eca-ec86-5078d28ff977"
      },
      "execution_count": 20,
      "outputs": [
        {
          "output_type": "display_data",
          "data": {
            "text/plain": [
              "<Figure size 432x288 with 1 Axes>"
            ],
            "image/png": "[encoded data removed]"
          },
          "metadata": {
            "needs_background": "light"
          }
        }
      ]
    },
    {
      "cell_type": "code",
      "source": [
        "# Part 3 - Making the predictions and evaluating the model\n",
        "\n",
        "# Predicting the Test set results\n",
        "y_pred = classifier.predict(X_test)\n",
        "y_pred = (y_pred > 0.5)"
      ],
      "metadata": {
        "id": "OYqCIIkDCd8S"
      },
      "execution_count": 21,
      "outputs": []
    },
    {
      "cell_type": "code",
      "source": [
        "# Making the Confusion Matrix\n",
        "from sklearn.metrics import confusion_matrix\n",
        "cm = confusion_matrix(y_test, y_pred)\n",
        "cm"
      ],
      "metadata": {
        "colab": {
          "base_uri": "https://localhost:8080/"
        },
        "id": "cm3EeOGTCi3-",
        "outputId": "26409a75-4d52-4c42-f1d5-812e9fab2075"
      },
      "execution_count": 22,
      "outputs": [
        {
          "output_type": "execute_result",
          "data": {
            "text/plain": [
              "array([[1525,   70],\n",
              "       [ 211,  194]])"
            ]
          },
          "metadata": {},
          "execution_count": 22
        }
      ]
    },
    {
      "cell_type": "code",
      "source": [
        "# Calculate the Accuracy\n",
        "from sklearn.metrics import accuracy_score\n",
        "score=accuracy_score(y_pred,y_test)"
      ],
      "metadata": {
        "id": "FgfRKzzOClmP"
      },
      "execution_count": 23,
      "outputs": []
    },
    {
      "cell_type": "code",
      "source": [
        "score"
      ],
      "metadata": {
        "colab": {
          "base_uri": "https://localhost:8080/"
        },
        "id": "a_C5EETrCpSj",
        "outputId": "b260892c-1e24-4418-be41-fa957169460e"
      },
      "execution_count": 24,
      "outputs": [
        {
          "output_type": "execute_result",
          "data": {
            "text/plain": [
              "0.8595"
            ]
          },
          "metadata": {},
          "execution_count": 24
        }
      ]
    },
    {
      "cell_type": "code",
      "source": [
        ""
      ],
      "metadata": {
        "id": "UTvHAjYWCqWx"
      },
      "execution_count": 24,
      "outputs": []
    }
  ]
}